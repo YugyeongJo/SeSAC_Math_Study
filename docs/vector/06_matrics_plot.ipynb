{
 "cells": [
  {
   "cell_type": "code",
   "execution_count": 2,
   "metadata": {},
   "outputs": [],
   "source": [
    "import numpy as np\n",
    "import matplotlib.pyplot as plt"
   ]
  },
  {
   "cell_type": "code",
   "execution_count": 12,
   "metadata": {},
   "outputs": [
    {
     "name": "stdout",
     "output_type": "stream",
     "text": [
      "Matrix A = \n",
      " [[ 2  3  4]\n",
      " [10 20 30]]\n",
      "Shape of A =  (2, 3)\n",
      "Shape of A =  int64\n",
      "--------------------\n",
      "Matrix A = \n",
      " [[ 2.  3.  4.]\n",
      " [10. 20. 30.]]\n",
      "Shape of A =  (2, 3)\n",
      "Shape of A =  float64\n"
     ]
    }
   ],
   "source": [
    "A = np.array([[2, 3, 4]\n",
    "              , [10, 20, 30]])\n",
    "B = np.array([[2, 3, 4]\n",
    "              , [10, 20, 30]], dtype=np.float64)\n",
    "\n",
    "print(\"Matrix A = \\n\", A)\n",
    "print(\"Shape of A = \", A.shape)\n",
    "print(\"Shape of A = \", A.dtype)\n",
    "\n",
    "print(\"--------------------\")\n",
    "\n",
    "print(\"Matrix A = \\n\", B)\n",
    "print(\"Shape of A = \", B.shape)\n",
    "print(\"Shape of A = \", B.dtype)"
   ]
  },
  {
   "cell_type": "code",
   "execution_count": 18,
   "metadata": {},
   "outputs": [
    {
     "name": "stdout",
     "output_type": "stream",
     "text": [
      "D_1 = \n",
      " [[1 0 0 0]\n",
      " [0 2 0 0]\n",
      " [0 0 3 0]\n",
      " [0 0 0 4]]\n",
      "--------------------\n",
      "D_2 = \n",
      " [[2 0 0 0 0]\n",
      " [0 3 0 0 0]\n",
      " [0 0 8 0 0]\n",
      " [0 0 0 5 0]\n",
      " [0 0 0 0 1]]\n"
     ]
    }
   ],
   "source": [
    "## Diagonal matrix\n",
    "a = np.array([1, 2, 3, 4])\n",
    "\n",
    "D_1 = np.diag(a)\n",
    "print(\"D_1 = \\n\", D_1)\n",
    "\n",
    "print(\"--------------------\")\n",
    "\n",
    "b = np.random.randint(1, 10, 5)\n",
    "D_2 = np.diag(b)\n",
    "print(\"D_2 = \\n\", D_2)"
   ]
  },
  {
   "cell_type": "code",
   "execution_count": 21,
   "metadata": {},
   "outputs": [
    {
     "name": "stdout",
     "output_type": "stream",
     "text": [
      "3 x 3 Identity = \n",
      " [[1. 0. 0.]\n",
      " [0. 1. 0.]\n",
      " [0. 0. 1.]]\n",
      "--------------------\n",
      "5 x 5 Identity = \n",
      " [[1. 0. 0. 0. 0.]\n",
      " [0. 1. 0. 0. 0.]\n",
      " [0. 0. 1. 0. 0.]\n",
      " [0. 0. 0. 1. 0.]\n",
      " [0. 0. 0. 0. 1.]]\n"
     ]
    }
   ],
   "source": [
    "## identity matrix\n",
    "\n",
    "I_3 = np.eye(3)\n",
    "print(\"3 x 3 Identity = \\n\", I_3)\n",
    "\n",
    "print(\"--------------------\")\n",
    "\n",
    "I_5 = np.eye(5)\n",
    "print(\"5 x 5 Identity = \\n\", I_5)"
   ]
  },
  {
   "cell_type": "code",
   "execution_count": 23,
   "metadata": {},
   "outputs": [
    {
     "name": "stdout",
     "output_type": "stream",
     "text": [
      "A = \n",
      " [[1 2 3 4]\n",
      " [5 6 7 8]]\n",
      "Transpose matrix A = \n",
      " [[1 5]\n",
      " [2 6]\n",
      " [3 7]\n",
      " [4 8]]\n"
     ]
    }
   ],
   "source": [
    "## Transpose matrix\n",
    "\n",
    "A = np.array([[1, 2, 3, 4]\n",
    "              , [5, 6, 7, 8]], dtype = np.int64)\n",
    "\n",
    "print(\"A = \\n\", A)\n",
    "print(\"Transpose matrix A = \\n\", A.T)"
   ]
  },
  {
   "cell_type": "code",
   "execution_count": 27,
   "metadata": {},
   "outputs": [
    {
     "name": "stdout",
     "output_type": "stream",
     "text": [
      "A*B = \n",
      " [[1 2]\n",
      " [3 8]]\n",
      "A x B = \n",
      " [[ 3  5]\n",
      " [ 7 11]]\n"
     ]
    }
   ],
   "source": [
    "## matrix multiplication\n",
    "\n",
    "A = np.array([[1, 2]\n",
    "              , [3, 4]])\n",
    "B = np.array([[1, 1]\n",
    "              , [1, 2]])\n",
    "\n",
    "print(\"A*B = \\n\", A*B)\n",
    "print(\"A x B = \\n\", np.matmul(A, B))"
   ]
  }
 ],
 "metadata": {
  "kernelspec": {
   "display_name": "Python 3",
   "language": "python",
   "name": "python3"
  },
  "language_info": {
   "codemirror_mode": {
    "name": "ipython",
    "version": 3
   },
   "file_extension": ".py",
   "mimetype": "text/x-python",
   "name": "python",
   "nbconvert_exporter": "python",
   "pygments_lexer": "ipython3",
   "version": "3.12.4"
  }
 },
 "nbformat": 4,
 "nbformat_minor": 2
}
